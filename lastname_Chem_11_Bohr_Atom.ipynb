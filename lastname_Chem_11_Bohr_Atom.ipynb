{
  "nbformat": 4,
  "nbformat_minor": 5,
  "metadata": {
    "kernelspec": {
      "display_name": "Python 3 (ipykernel)",
      "language": "python",
      "name": "python3"
    },
    "language_info": {
      "codemirror_mode": {
        "name": "ipython",
        "version": 3
      },
      "file_extension": ".py",
      "mimetype": "text/x-python",
      "name": "python",
      "nbconvert_exporter": "python",
      "pygments_lexer": "ipython3",
      "version": "3.9.5"
    },
    "colab": {
      "name": "lastname_Chem 11 -- Bohr_Atom.ipynb",
      "provenance": [],
      "collapsed_sections": []
    }
  },
  "cells": [
    {
      "cell_type": "markdown",
      "metadata": {
        "id": "cMCzF-8Dccqy"
      },
      "source": [
        "The purpose of this exercise is to use Python to better understand the energy diagram for the Hydrogen Atom as described by the Bohr model.\n",
        "\n",
        "### Written for Santa Clara University by Elliott Anderson (Chemistry '22), Dr. Hoda Mirafzal, and Dr. Grace Stokes"
      ],
      "id": "cMCzF-8Dccqy"
    },
    {
      "cell_type": "markdown",
      "metadata": {
        "id": "UuXYOGWfQf50"
      },
      "source": [
        "# Part 1: Graphing the Bohr Atom Energy Levels\n",
        "\n",
        "In Section 2.5 of the Tro textbook on pg. 94, we find Equation 2.6, which describes how energy changes with principal quantum number (n). The Rydberg constant ($R_H$) in Equation 1 comes from multiplying together a number of physical constants, as shown in the table below. \n",
        "\n",
        "$$E_{n} =-{R_H}*\\frac{1}{n^2} = -\\frac{m_e e^4}{8\\epsilon_0^2h^2}*\\frac{1}{n^2}\\qquad(2.6)$$\n",
        "\n",
        "| Symbol | Quantity | Value in SI units\n",
        "|---|---|---|\n",
        "| $m_e$ | electron mass| $9.109\\times 10^{-31}$ kg |\n",
        "| $e$ | electron charge| $1.602\\times 10^{-19}$ C |\n",
        "| $\\epsilon_0$ | vacuum permittivity| $8.854\\times 10^{-12}$ C$^2$/J m |\n",
        "| $h$ | Planck's constant| $6.626\\times 10^{-34}$ J s |. \n",
        "\n",
        "1. We will plug in physical constants from the table below into Equation 2.6 to calculate energy in Joules for different integer values of $n$ ranging from $n=1$ to $n=10$.\n",
        "2. Then we will graph the resulting energy levels to get the \"Bohr Atom Energy Diagram\" shown on Figure 2.22 (page 97) of Tro."
      ],
      "id": "UuXYOGWfQf50"
    },
    {
      "cell_type": "markdown",
      "metadata": {
        "id": "cQlA7L60FhM7"
      },
      "source": [
        "# Notes about Python\n",
        "<p>1) If you change a value and then go back and run an earlier code block, it will use the new value, not the first defined value, which may give you incorrect analysis.\n",
        "\n",
        "2) Similarly, if you open your notebook later, and try to run a code block in the middle, it may tell you that your variables are undefined, even though you can clearly see them defined in earlier code blocks. But if you didn’t re-run those code blocks, then Python doesn’t know they exist.\n",
        "\n",
        "3)  Hashtags (<i>#</i>) at the beginning of a line signify comments and get color-coded as green but do not impact the execution of the code.\n",
        "</br>"
      ],
      "id": "cQlA7L60FhM7"
    },
    {
      "cell_type": "code",
      "metadata": {
        "id": "qsP9yg6kHogC"
      },
      "source": [
        "# Make changes to n_min and n_max below before you hit SHIFT and ENTER at the same time\n",
        "n_min = ...  # What is the ground state energy?\n",
        "n_max = ...  # How many energy levels would you like to plot?\n",
        "\n",
        "# This code imports libraries and packages that we will need.\n",
        "import numpy\n",
        "import math\n",
        "import os\n",
        "import matplotlib.pyplot as plt\n",
        "import pandas as pd\n",
        "%matplotlib notebook\n",
        "\n",
        "n = numpy.linspace(n_min, n_max, n_max-n_min+1)\n",
        "\n",
        "# Double asterisks (**) represent an exponent while a single asterisk (*) is used for multiplication\n",
        "m_e = 9.109 * 10**-31 # kg\n",
        "e = 1.602 * 10**-19   # C\n",
        "vp = 8.854 * 10**-12  # C^2 / J*m\n",
        "h = 6.626 * 10**-34   # J*s\n",
        "\n",
        "# Equation 2.6\n",
        "numerator = m_e*(e**4)\n",
        "denominator = 8*(vp**2)*(h**2)*(n**2)\n",
        "e_lv = -numerator/denominator\n",
        "\n",
        "# Define the colors that will be used in the energy diagram\n",
        "# A list of colors that the list pull upon, needs to have >= entries than the value of n_max\n",
        "colors = ['#e6194b', '#3cb44b', '#ffe119', '#4363d8', '#f58231', \n",
        "          '#911eb4', '#46f0f0', '#f032e6', '#bcf60c', '#fabebe', \n",
        "          '#008080', '#e6beff', '#9a6324', '#fffac8', '#800000', \n",
        "          '#aaffc3', '#808000', '#ffd8b1', '#000075', '#808080', \n",
        "          '#ffffff', '#000000'] \n",
        "          \n",
        "\n",
        "# Calculate Energies for the lowest 10 energy levels of the H atom in Joules\n",
        "# Plot the Energy Diagram\n",
        "fig = plt.figure()\n",
        "inc = 0\n",
        "for inc, big_int in enumerate(reversed(e_lv)):\n",
        "    print('for n=',n_max-inc, ', Energy = ', big_int, 'Joules')\n",
        "    x_big = range(0,n_max)\n",
        "    y_big = [big_int]*n_max\n",
        "    plt.plot(x_big,y_big, color = colors[inc+1])\n",
        "    inc+=1\n",
        "    plt.ylabel('Energy (Joules)') \n",
        "    plt.xticks([])\n",
        "    plt.title(\"Figure 1. Bohr Atom Energy Levels\")\n",
        "\n",
        "#Generates a legend for the plot\n",
        "ax = plt.plot(x_big, y_big)\n",
        "plt.xlim(0, 9) #change this value to n_max-1 if you change n_max\n",
        "plt.ylim(-2.5e-18, 1e-20)\n",
        "plt.legend(range(n_max, 0, -1), loc=\"center right\", bbox_to_anchor = (1.2,.5), title = \"n=\")"
      ],
      "id": "qsP9yg6kHogC",
      "execution_count": null,
      "outputs": []
    },
    {
      "cell_type": "markdown",
      "metadata": {
        "id": "dgqDP2N_EETb"
      },
      "source": [
        "# Pause for Analysis (see CAMINO):\n",
        "\n",
        "1a. As n increases, does the energy becomes a smaller negative number (until it reaches zero for n = infinity) or a larger positive number (until it reaches infinity for n = infinity)?\n",
        "<p>1b. Which n results in the largest negative value for energy?\n",
        "<p>1c. Do we call the ground state energy n = 0 or n = 1?"
      ],
      "id": "dgqDP2N_EETb"
    },
    {
      "cell_type": "markdown",
      "metadata": {
        "id": "4ELQ500Fn5Rq"
      },
      "source": [
        "# Part 2: Predicting Hydrogen Emission Wavelengths\n",
        "\n",
        "Using Python, we are going to investigate 4 different transitions:\n",
        "<p> a) 3 --> 2\n",
        "<p> b) 2 --> 1\n",
        "<p> c) 3 --> 1\n",
        "<p> d) 1 --> 3\n",
        "\n",
        "We will calculate the energy of a transition between two different energy levels and convert from energy (in Joules) to wavelength (in nanometers or nm) and frequency (in hertz or $s^{-1}$) using the following equation, which is a combination of Equations 2.7, 2.2 and 2.3 on pgs. 82 and 97 of Tro (2nd ed.):\n",
        "\n",
        "$\\Delta$$E = E_{final} - E_{initial} = h$$\\nu =\\frac{h c}{\\lambda}$\n",
        "\n",
        "\n"
      ],
      "id": "4ELQ500Fn5Rq"
    },
    {
      "cell_type": "code",
      "metadata": {
        "id": "32b55894"
      },
      "source": [
        "#Make changes to the initial and final values below before you hit SHIFT and ENTER\n",
        "\n",
        "n_init_a = \n",
        "n_final_a = \n",
        "n_init_b = \n",
        "n_final_b = \n",
        "n_init_c = \n",
        "n_final_c = \n",
        "n_init_d = \n",
        "n_final_d = \n",
        "\n",
        "print('transition a goes from from n=', n_init_a, 'to n =', n_final_a)\n",
        "print('transition b goes from from n=', n_init_b, 'to n =', n_final_b)\n",
        "print('transition c goes from from n=', n_init_c, 'to n =', n_final_c)\n",
        "print('transition d goes from from n=', n_init_d, 'to n =', n_final_d)\n",
        "\n",
        "# Calculate energy of each state for individual n_init or n_final values\n",
        "e_lv_i_a = e_lv[n_init_a-1]\n",
        "e_lv_i_b = e_lv[n_init_b-1]\n",
        "e_lv_f_a = e_lv[n_final_a-1]\n",
        "e_lv_f_b = e_lv[n_final_b-1]\n",
        "e_lv_i_c = e_lv[n_init_c-1]\n",
        "e_lv_i_d = e_lv[n_init_d-1]\n",
        "e_lv_f_c = e_lv[n_final_c-1]\n",
        "e_lv_f_d = e_lv[n_final_d-1]\n",
        "\n",
        "# Calculate change in energies\n",
        "delta_e_a = e_lv_f_a - e_lv_i_a\n",
        "delta_e_b = e_lv_f_b - e_lv_i_b\n",
        "delta_e_c = e_lv_f_c - e_lv_i_c\n",
        "delta_e_d = e_lv_f_d - e_lv_i_d\n",
        "\n",
        "# Calculate frequencies in s^-1 using Equation 2.2 pg. 82 (Tro)\n",
        "d_e_freq_a = abs(delta_e_a / h)\n",
        "d_e_freq_b = abs(delta_e_b / h)\n",
        "d_e_freq_c = abs(delta_e_c / h)\n",
        "d_e_freq_d = abs(delta_e_d / h)\n",
        "sci_freq_a = \"{:e}\".format(d_e_freq_a)\n",
        "sci_freq_b = \"{:e}\".format(d_e_freq_b)\n",
        "sci_freq_c = \"{:e}\".format(d_e_freq_c)\n",
        "sci_freq_d = \"{:e}\".format(d_e_freq_d)\n",
        "\n",
        "# Calculate wavelengths in nm using Equation 2.3 pg. 82 (Tro)\n",
        "c= 299792458 #Speed of Light\n",
        "d_e_wave_a = c / d_e_freq_a\n",
        "d_e_wave_nm_a = d_e_wave_a * 10**9\n",
        "d_e_wave_b = c / d_e_freq_b\n",
        "d_e_wave_nm_b = d_e_wave_b * 10**9\n",
        "d_e_wave_c = c / d_e_freq_c\n",
        "d_e_wave_nm_c = d_e_wave_c * 10**9\n",
        "d_e_wave_d = c / d_e_freq_d\n",
        "d_e_wave_nm_d = d_e_wave_d * 10**9\n",
        "\n",
        "# Make table with values for n_init, n_final, Energies in Joules, Hertz, nanometers\n",
        "row1 = [n_init_a, n_final_a, delta_e_a, sci_freq_a, d_e_wave_nm_a]\n",
        "row2 = [n_init_b, n_final_b, delta_e_b, sci_freq_b, d_e_wave_nm_b]\n",
        "row3 = [n_init_c, n_final_c, delta_e_c, sci_freq_c, d_e_wave_nm_c]\n",
        "row4 = [n_init_d, n_final_d, delta_e_d, sci_freq_d, d_e_wave_nm_d]\n",
        "fig, ax =plt.subplots(1,1)\n",
        "data=[row1,row2,row3,row4]\n",
        "column_labels=[\"n_init\", \"n_final\", \"Energy (J)\", \"Frequency (Hz)\", \"Wavelength (nm)\" ]\n",
        "df=pd.DataFrame(data,columns=column_labels)\n",
        "ax.axis('tight')\n",
        "ax.axis('off')\n",
        "table = ax.table(cellText=df.values,\n",
        "        colLabels=df.columns,\n",
        "        rowLabels=[\"transition a\", \"transition b\", \"transition c\", \"transition d\"],\n",
        "        loc=\"center\")\n",
        "table.set_fontsize(30)\n",
        "table.scale(5, 5)\n",
        "plt.show()\n",
        "\n",
        "#Plots Energy Diagram with lines to indicate 4 transitions\n",
        "fig = plt.figure()\n",
        "inc = 0\n",
        "for inc, big_int in enumerate(reversed(e_lv)):\n",
        "    x_big = range(0,n_max)\n",
        "    y_big = [big_int]*n_max\n",
        "    plt.plot(x_big,y_big, color = colors[inc+1])\n",
        "    inc+=1\n",
        "    plt.ylabel('Energy (Joules)') \n",
        "    plt.xticks([])\n",
        "    plt.arrow(1, e_lv_i_a, 0, delta_e_a, width = 0)\n",
        "    plt.arrow(2, e_lv_i_b, 0, delta_e_b, width = 0)\n",
        "    plt.arrow(3, e_lv_i_c, 0, delta_e_c, width = 0) \n",
        "    plt.arrow(4, e_lv_i_d, 0, delta_e_d, width = 0)\n",
        "    plt.title(\"Figure 2. Energy Transitions of Electron in Bohr Atom\")\n",
        "\n",
        "#Generates a legend for the plot\n",
        "ax = plt.plot(x_big, y_big)\n",
        "plt.xlim(0, 9)\n",
        "plt.ylim(-2.5e-18, 1e-20)\n",
        "plt.legend(range(n_max, 0, -1), loc=\"center right\", bbox_to_anchor = (1.2,.5), title = \"n=\")"
      ],
      "id": "32b55894",
      "execution_count": null,
      "outputs": []
    },
    {
      "cell_type": "markdown",
      "metadata": {
        "id": "R_svyqdhvdnP"
      },
      "source": [
        "# Pause for Analysis (see CAMINO)\n",
        "\n",
        "2. Which transitions has the shortest wavelength? Remember that the units of wavelength is nanometers or nm.\n",
        "\n",
        "3. Which transition is visible to the human eye? Remember that the wavelengths for the visible spectrum ranges from 400 nm - 750 nm\n",
        "\n",
        "4. Which transitions has the highest frequency (in Hertz)?\n",
        "\n",
        "5. Notice the differences in the SIGN for energy for 1-->3 versus 3-->1. \n",
        "<p> When $n_{init}$ > $n_{final}$, the sign for $\\Delta$$E <0$, which is associated with the emission of a photon of light of the wavelength or frequency calculated in the Table.\n",
        "<p> When $n_{init}$ < $n_{final}$, the sign for $\\Delta$$E > 0$, which is associated with absorbance of a photon of light that has sufficient energy to excite the electron to a higher energy state.  \n",
        "\n"
      ],
      "id": "R_svyqdhvdnP"
    },
    {
      "cell_type": "markdown",
      "metadata": {
        "id": "Nw4zBvq7WQMu"
      },
      "source": [
        "# We would like your feedback about this activity:\n",
        "Upon completing this exercise, please consider giving us some feedback. The survey is voluntary and will not impact your grade:\n",
        "https://scu.az1.qualtrics.com/jfe/form/SV_cBKDF6QZRm2N9hY"
      ],
      "id": "Nw4zBvq7WQMu"
    }
  ]
}